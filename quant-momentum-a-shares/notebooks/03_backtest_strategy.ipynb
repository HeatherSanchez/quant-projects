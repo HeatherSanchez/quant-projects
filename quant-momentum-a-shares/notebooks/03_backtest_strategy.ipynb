{
 "cells": [],
 "metadata": {
  "kernelspec": {
   "display_name": "${KERNEL_SPEC_DISPLAY_NAME}",
   "language": "${KERNEL_SPEC_LANGUAGE}",
   "name": "${KERNEL_SPEC_NAME}"
  },
  "language_info": {
   "codemirror_mode": {
    "name": "ipython",
    "version": 2
   },
   "file_extension": ".py",
   "mimetype": "text/x-python",
   "name": "python",
   "nbconvert_exporter": "python",
   "pygments_lexer": "ipython2",
   "version": "2.7.6"
  },
  "pycharm": {
   "stem_cell": {
    "cell_type": "raw",
    "source": [
     "\n",
     "---\n",
     "\n",
     "# 📘 A股动量策略回测 Notebook\n",
     "\n",
     "# 导入库\n",
     "import pandas as pd\n",
     "import numpy as np\n",
     "import matplotlib.pyplot as plt\n",
     "import yfinance as yf\n",
     "\n",
     "# 下载数据\n",
     "ticker = \"510300.SS\"\n",
     "df = yf.download(ticker, start=\"2018-01-01\", end=\"2024-12-31\")\n",
     "df = df[['Close']].dropna()\n",
     "\n",
     "# 计算动量\n",
     "window = 20\n",
     "df['momentum'] = df['Close'].pct_change(periods=window)\n",
     "df['signal'] = (df['momentum'] > 0).astype(int)\n",
     "df['ret'] = df['Close'].pct_change()\n",
     "df['strategy_ret'] = df['signal'].shift(1) * df['ret']\n",
     "\n",
     "# 策略资金曲线\n",
     "df['cum_strategy'] = (1 + df['strategy_ret'].fillna(0)).cumprod()\n",
     "df['cum_benchmark'] = (1 + df['ret'].fillna(0)).cumprod()\n",
     "\n",
     "# 可视化\n",
     "plt.figure(figsize=(10,5))\n",
     "plt.plot(df.index, df['cum_strategy'], label='动量策略')\n",
     "plt.plot(df.index, df['cum_benchmark'], label='基准', linestyle='--')\n",
     "plt.legend()\n",
     "plt.title('A股动量策略回测结果')\n",
     "plt.show()\n",
     "\n",
     "# 指标计算\n",
     "days = df.shape[0]\n",
     "years = days / 252\n",
     "ann_ret = df['cum_strategy'].iloc[-1] ** (1/years) - 1\n",
     "ann_vol = df['strategy_ret'].std() * np.sqrt(252)\n",
     "sharpe = ann_ret / ann_vol\n",
     "print(f\"年化收益率: {ann_ret:.2%}\")\n",
     "print(f\"年化波动率: {ann_vol:.2%}\")\n",
     "print(f\"Sharpe: {sharpe:.2f}\")\n"
    ],
    "metadata": {
     "collapsed": false
    }
   }
  }
 },
 "nbformat": 4,
 "nbformat_minor": 0
}